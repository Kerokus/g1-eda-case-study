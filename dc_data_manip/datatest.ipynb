{
 "cells": [
  {
   "cell_type": "code",
   "execution_count": 19,
   "metadata": {},
   "outputs": [],
   "source": [
    "import pandas as pd\n",
    "import matplotlib.pyplot as plt\n",
    "import seaborn as sns"
   ]
  },
  {
   "cell_type": "code",
   "execution_count": null,
   "metadata": {},
   "outputs": [],
   "source": [
    "# The float lenghts on a lot of these inputs is causing the output to end up in scientific notation\n",
    "# Going to set a float cap to 3 decimal places for now. Can remove this if it's a problem.\n",
    "pd.set_option('display.float_format', '{:.3f}'.format)\n",
    "raw_df = pd.read_csv('nutritional-data.csv')\n",
    "\n",
    "raw_df.shape"
   ]
  },
  {
   "cell_type": "code",
   "execution_count": null,
   "metadata": {},
   "outputs": [],
   "source": [
    "# Convert this to a long format so that we don't have a column for each year. \n",
    "# This drastically increases the number of rows, but makes the data much cleaner.\n",
    "data_long = raw_df.melt(id_vars=['Country Name', 'Country Code', 'Indicator Name', 'Indicator Code'],\n",
    "                      var_name='Year',\n",
    "                      value_name='Amount')\n",
    "\n",
    "data_long.shape"
   ]
  },
  {
   "cell_type": "code",
   "execution_count": null,
   "metadata": {},
   "outputs": [],
   "source": [
    "data_long.sample(5)"
   ]
  },
  {
   "cell_type": "code",
   "execution_count": null,
   "metadata": {},
   "outputs": [],
   "source": [
    "# There's still a lot of \"NaN\" in the Amount column so we drop those.\n",
    "\n",
    "clean_long_df = data_long.dropna(subset=['Amount'])\n",
    "clean_long_df.sample(10)"
   ]
  },
  {
   "cell_type": "code",
   "execution_count": null,
   "metadata": {},
   "outputs": [],
   "source": [
    "unique_categories = sorted(clean_long_df['Indicator Name'].unique())\n",
    "unique_categories"
   ]
  }
 ],
 "metadata": {
  "kernelspec": {
   "display_name": "Python 3",
   "language": "python",
   "name": "python3"
  },
  "language_info": {
   "codemirror_mode": {
    "name": "ipython",
    "version": 3
   },
   "file_extension": ".py",
   "mimetype": "text/x-python",
   "name": "python",
   "nbconvert_exporter": "python",
   "pygments_lexer": "ipython3",
   "version": "3.12.3"
  }
 },
 "nbformat": 4,
 "nbformat_minor": 2
}
